{
 "cells": [
  {
   "cell_type": "markdown",
   "id": "18e9a9ab",
   "metadata": {},
   "source": [
    "# Digit Classification using Neural Network"
   ]
  },
  {
   "cell_type": "markdown",
   "id": "fae0e16a",
   "metadata": {},
   "source": [
    "MNIST is a dataset of handwriting digits and we are going to be building a neural network from scratch that can classify these images. \n",
    "\n",
    "Each image has 28x28=784 pixels. Each pixel is between 0 (white) to 255 (black)"
   ]
  },
  {
   "cell_type": "markdown",
   "id": "3c4aa6e2",
   "metadata": {},
   "source": [
    "## Two-layer Neural Network\n",
    "\n",
    "We will start by building a 2 layer neural network then slowly work our way to build more layers"
   ]
  },
  {
   "cell_type": "code",
   "execution_count": 44,
   "id": "67040d3d",
   "metadata": {},
   "outputs": [],
   "source": [
    "# First import the relevant libraries\n",
    "import numpy as np\n",
    "import pandas as pd\n",
    "import seaborn as sb\n",
    "import matplotlib.pyplot as plt\n",
    "\n",
    "from sklearn.metrics import classification_report, confusion_matrix"
   ]
  },
  {
   "cell_type": "code",
   "execution_count": 2,
   "id": "d09b1685",
   "metadata": {},
   "outputs": [
    {
     "data": {
      "text/html": [
       "<div>\n",
       "<style scoped>\n",
       "    .dataframe tbody tr th:only-of-type {\n",
       "        vertical-align: middle;\n",
       "    }\n",
       "\n",
       "    .dataframe tbody tr th {\n",
       "        vertical-align: top;\n",
       "    }\n",
       "\n",
       "    .dataframe thead th {\n",
       "        text-align: right;\n",
       "    }\n",
       "</style>\n",
       "<table border=\"1\" class=\"dataframe\">\n",
       "  <thead>\n",
       "    <tr style=\"text-align: right;\">\n",
       "      <th></th>\n",
       "      <th>label</th>\n",
       "      <th>pixel0</th>\n",
       "      <th>pixel1</th>\n",
       "      <th>pixel2</th>\n",
       "      <th>pixel3</th>\n",
       "      <th>pixel4</th>\n",
       "      <th>pixel5</th>\n",
       "      <th>pixel6</th>\n",
       "      <th>pixel7</th>\n",
       "      <th>pixel8</th>\n",
       "      <th>...</th>\n",
       "      <th>pixel774</th>\n",
       "      <th>pixel775</th>\n",
       "      <th>pixel776</th>\n",
       "      <th>pixel777</th>\n",
       "      <th>pixel778</th>\n",
       "      <th>pixel779</th>\n",
       "      <th>pixel780</th>\n",
       "      <th>pixel781</th>\n",
       "      <th>pixel782</th>\n",
       "      <th>pixel783</th>\n",
       "    </tr>\n",
       "  </thead>\n",
       "  <tbody>\n",
       "    <tr>\n",
       "      <th>0</th>\n",
       "      <td>1</td>\n",
       "      <td>0</td>\n",
       "      <td>0</td>\n",
       "      <td>0</td>\n",
       "      <td>0</td>\n",
       "      <td>0</td>\n",
       "      <td>0</td>\n",
       "      <td>0</td>\n",
       "      <td>0</td>\n",
       "      <td>0</td>\n",
       "      <td>...</td>\n",
       "      <td>0</td>\n",
       "      <td>0</td>\n",
       "      <td>0</td>\n",
       "      <td>0</td>\n",
       "      <td>0</td>\n",
       "      <td>0</td>\n",
       "      <td>0</td>\n",
       "      <td>0</td>\n",
       "      <td>0</td>\n",
       "      <td>0</td>\n",
       "    </tr>\n",
       "    <tr>\n",
       "      <th>1</th>\n",
       "      <td>0</td>\n",
       "      <td>0</td>\n",
       "      <td>0</td>\n",
       "      <td>0</td>\n",
       "      <td>0</td>\n",
       "      <td>0</td>\n",
       "      <td>0</td>\n",
       "      <td>0</td>\n",
       "      <td>0</td>\n",
       "      <td>0</td>\n",
       "      <td>...</td>\n",
       "      <td>0</td>\n",
       "      <td>0</td>\n",
       "      <td>0</td>\n",
       "      <td>0</td>\n",
       "      <td>0</td>\n",
       "      <td>0</td>\n",
       "      <td>0</td>\n",
       "      <td>0</td>\n",
       "      <td>0</td>\n",
       "      <td>0</td>\n",
       "    </tr>\n",
       "    <tr>\n",
       "      <th>2</th>\n",
       "      <td>1</td>\n",
       "      <td>0</td>\n",
       "      <td>0</td>\n",
       "      <td>0</td>\n",
       "      <td>0</td>\n",
       "      <td>0</td>\n",
       "      <td>0</td>\n",
       "      <td>0</td>\n",
       "      <td>0</td>\n",
       "      <td>0</td>\n",
       "      <td>...</td>\n",
       "      <td>0</td>\n",
       "      <td>0</td>\n",
       "      <td>0</td>\n",
       "      <td>0</td>\n",
       "      <td>0</td>\n",
       "      <td>0</td>\n",
       "      <td>0</td>\n",
       "      <td>0</td>\n",
       "      <td>0</td>\n",
       "      <td>0</td>\n",
       "    </tr>\n",
       "    <tr>\n",
       "      <th>3</th>\n",
       "      <td>4</td>\n",
       "      <td>0</td>\n",
       "      <td>0</td>\n",
       "      <td>0</td>\n",
       "      <td>0</td>\n",
       "      <td>0</td>\n",
       "      <td>0</td>\n",
       "      <td>0</td>\n",
       "      <td>0</td>\n",
       "      <td>0</td>\n",
       "      <td>...</td>\n",
       "      <td>0</td>\n",
       "      <td>0</td>\n",
       "      <td>0</td>\n",
       "      <td>0</td>\n",
       "      <td>0</td>\n",
       "      <td>0</td>\n",
       "      <td>0</td>\n",
       "      <td>0</td>\n",
       "      <td>0</td>\n",
       "      <td>0</td>\n",
       "    </tr>\n",
       "    <tr>\n",
       "      <th>4</th>\n",
       "      <td>0</td>\n",
       "      <td>0</td>\n",
       "      <td>0</td>\n",
       "      <td>0</td>\n",
       "      <td>0</td>\n",
       "      <td>0</td>\n",
       "      <td>0</td>\n",
       "      <td>0</td>\n",
       "      <td>0</td>\n",
       "      <td>0</td>\n",
       "      <td>...</td>\n",
       "      <td>0</td>\n",
       "      <td>0</td>\n",
       "      <td>0</td>\n",
       "      <td>0</td>\n",
       "      <td>0</td>\n",
       "      <td>0</td>\n",
       "      <td>0</td>\n",
       "      <td>0</td>\n",
       "      <td>0</td>\n",
       "      <td>0</td>\n",
       "    </tr>\n",
       "  </tbody>\n",
       "</table>\n",
       "<p>5 rows × 785 columns</p>\n",
       "</div>"
      ],
      "text/plain": [
       "   label  pixel0  pixel1  pixel2  pixel3  pixel4  pixel5  pixel6  pixel7  \\\n",
       "0      1       0       0       0       0       0       0       0       0   \n",
       "1      0       0       0       0       0       0       0       0       0   \n",
       "2      1       0       0       0       0       0       0       0       0   \n",
       "3      4       0       0       0       0       0       0       0       0   \n",
       "4      0       0       0       0       0       0       0       0       0   \n",
       "\n",
       "   pixel8  ...  pixel774  pixel775  pixel776  pixel777  pixel778  pixel779  \\\n",
       "0       0  ...         0         0         0         0         0         0   \n",
       "1       0  ...         0         0         0         0         0         0   \n",
       "2       0  ...         0         0         0         0         0         0   \n",
       "3       0  ...         0         0         0         0         0         0   \n",
       "4       0  ...         0         0         0         0         0         0   \n",
       "\n",
       "   pixel780  pixel781  pixel782  pixel783  \n",
       "0         0         0         0         0  \n",
       "1         0         0         0         0  \n",
       "2         0         0         0         0  \n",
       "3         0         0         0         0  \n",
       "4         0         0         0         0  \n",
       "\n",
       "[5 rows x 785 columns]"
      ]
     },
     "execution_count": 2,
     "metadata": {},
     "output_type": "execute_result"
    }
   ],
   "source": [
    "# import the dataset\n",
    "digit=pd.read_csv('train.csv')\n",
    "\n",
    "# Get the preview\n",
    "digit.head()"
   ]
  },
  {
   "cell_type": "code",
   "execution_count": 3,
   "id": "3a7f229d",
   "metadata": {},
   "outputs": [
    {
     "data": {
      "text/plain": [
       "(42000, 785)"
      ]
     },
     "execution_count": 3,
     "metadata": {},
     "output_type": "execute_result"
    }
   ],
   "source": [
    "digit.shape"
   ]
  },
  {
   "cell_type": "code",
   "execution_count": 4,
   "id": "df366020",
   "metadata": {},
   "outputs": [],
   "source": [
    "# Change to numpy array\n",
    "digit=np.array(digit)\n",
    "m,n = digit.shape # m is the number of rows, n is the number of columns\n",
    "np.random.shuffle(digit)\n",
    "\n",
    "# Split into training and testing dataset, \n",
    "# Transpose the matrix such that each column is one example, and can be supplied to the input layer\n",
    "digit_test=digit[0:1000].T\n",
    "y_test=digit_test[0] # Labels are now in the first row\n",
    "x_test=digit_test[1:n] # Pixel 1 to 784 are from the second row onwards\n",
    "x_test=x_test/255. # Standardise the dataset\n",
    "\n",
    "digit_train=digit[1000:m].T\n",
    "y_train=digit_train[0]\n",
    "x_train=digit_train[1:n]\n",
    "x_train=x_train/255. # Performs normalization to scale pixel values to the range of 0 to 1\n",
    "_,m_train=x_train.shape"
   ]
  },
  {
   "cell_type": "code",
   "execution_count": 5,
   "id": "923c37cd",
   "metadata": {},
   "outputs": [
    {
     "data": {
      "text/plain": [
       "(784,)"
      ]
     },
     "execution_count": 5,
     "metadata": {},
     "output_type": "execute_result"
    }
   ],
   "source": [
    "# View shape of first column\n",
    "x_train[:,0].shape"
   ]
  },
  {
   "cell_type": "code",
   "execution_count": 6,
   "id": "e4f58006",
   "metadata": {},
   "outputs": [],
   "source": [
    "# Function to define the weights and bias\n",
    "def init_params():\n",
    "    W1=np.random.rand(10,784)-0.5 # Generates a 10x784 array of random numbers between -0.5 and 0.5\n",
    "    b1=np.random.rand(10,1)-0.5 \n",
    "    W2=np.random.rand(10,10)-0.5\n",
    "    b2=np.random.rand(10,1)-0.5\n",
    "    return W1,b1,W2,b2\n",
    "\n",
    "# Define Rectified Linear Unit\n",
    "def ReLU(Z):\n",
    "    return np.maximum(Z,0)\n",
    "\n",
    "def softmax(Z):\n",
    "    A = np.exp(Z) / sum(np.exp(Z))\n",
    "    return A\n",
    "\n",
    "def forward_prop(W1,b1,W2,b2,X):\n",
    "    Z1=W1.dot(X)+b1 # Value for first layer\n",
    "    A1=ReLU(Z1) # Activation function for first layer\n",
    "    \n",
    "    Z2=W2.dot(A1)+b2 # Value for second layer\n",
    "    A2=softmax(Z2) # Activation function for second layer\n",
    "\n",
    "    return Z1,A1,Z2,A2\n",
    "\n",
    "# Convert output values as a single-column matrix with 10 rows, each corresponding to the possible digits 0-9\n",
    "def one_hot(Y):\n",
    "    one_hot_Y=np.zeros((Y.size, Y.max()+1))\n",
    "    one_hot_Y[np.arange(Y.size),Y]=1 # Match where the 1s are at\n",
    "    one_hot_Y=one_hot_Y.T # Transpose to get each column as an example\n",
    "    return one_hot_Y\n",
    "\n",
    "# Derivative of ReLU function\n",
    "def deriv_ReLU(Z):\n",
    "    return Z > 0\n",
    "\n",
    "# Backpropagation to compute gradients of loss with respect to the weights and biases \n",
    "def back_prop(Z1,A1,Z2,A2,W2,X,Y):\n",
    "    one_hot_Y=one_hot(Y)\n",
    "    dZ2=A2-one_hot_Y\n",
    "    dW2=1 / m * dZ2.dot(A1.T) # Divide by m to find the average\n",
    "    db2=1 / m * np.sum(dZ2)\n",
    "    dZ1=W2.T.dot(dZ2) * deriv_ReLU(Z1)\n",
    "    dW1=1 / m * dZ1.dot(X.T)\n",
    "    db1=1 / m * np.sum(dZ1)\n",
    "    return dW1, db1, dW2, db2\n",
    "\n",
    "# Use gradient descent to optimise the values of weights and biases to improve predictions\n",
    "def update_params(W1,b1,W2,b2,dW1,db1,dW2,db2,alpha): # alpha is user-defined learning rate\n",
    "    W1 = W1 - alpha * dW1\n",
    "    b1 = b1 - alpha * db1\n",
    "    W2 = W2 - alpha * dW2\n",
    "    b2 = b2 - alpha * db2\n",
    "    return W1,b1,W2,b2\n",
    "    "
   ]
  },
  {
   "cell_type": "code",
   "execution_count": 26,
   "id": "1e04c266",
   "metadata": {},
   "outputs": [],
   "source": [
    "def get_predictions(A2):\n",
    "    return np.argmax(A2,0) # Finds the class with the highest number\n",
    "\n",
    "def get_accuracy(predictions, Y):\n",
    "    return np.sum(predictions==Y)/Y.size\n",
    "\n",
    "# Find the derivative and slowly move towards the point of minimum gradient which means cost is a minimum\n",
    "def gradient_descent(X,Y, iterations,alpha):\n",
    "    W1,b1,W2,b2=init_params()\n",
    "    accuracy=[]\n",
    "    for i in range(iterations):\n",
    "        Z1,A1,Z2,A2=forward_prop(W1,b1,W2,b2,X)\n",
    "        dW1, db1, dW2, db2=back_prop(Z1,A1,Z2,A2,W2,X,Y)\n",
    "        W1,b1,W2,b2=update_params(W1,b1,W2,b2,dW1,db1,dW2,db2,alpha)\n",
    "        accuracy.append(get_accuracy(get_predictions(A2), Y))\n",
    "        if i%10 ==0: # Print accuracy for every 10 iterations\n",
    "            print(\"Iteration: \", i)\n",
    "            print(\"Accuracy: \", accuracy[-1])\n",
    "    predictions=get_predictions(A2)\n",
    "    return W1,b1,W2,b2,accuracy, predictions"
   ]
  },
  {
   "cell_type": "code",
   "execution_count": 27,
   "id": "c9330422",
   "metadata": {
    "scrolled": false
   },
   "outputs": [
    {
     "name": "stdout",
     "output_type": "stream",
     "text": [
      "Iteration:  0\n",
      "Accuracy:  0.09907317073170732\n",
      "Iteration:  10\n",
      "Accuracy:  0.1662439024390244\n",
      "Iteration:  20\n",
      "Accuracy:  0.23429268292682928\n",
      "Iteration:  30\n",
      "Accuracy:  0.3008048780487805\n",
      "Iteration:  40\n",
      "Accuracy:  0.3521951219512195\n",
      "Iteration:  50\n",
      "Accuracy:  0.4002439024390244\n",
      "Iteration:  60\n",
      "Accuracy:  0.44539024390243903\n",
      "Iteration:  70\n",
      "Accuracy:  0.48360975609756096\n",
      "Iteration:  80\n",
      "Accuracy:  0.5159024390243903\n",
      "Iteration:  90\n",
      "Accuracy:  0.5479268292682927\n",
      "Iteration:  100\n",
      "Accuracy:  0.5817560975609756\n",
      "Iteration:  110\n",
      "Accuracy:  0.6119756097560975\n",
      "Iteration:  120\n",
      "Accuracy:  0.6367804878048781\n",
      "Iteration:  130\n",
      "Accuracy:  0.6571463414634147\n",
      "Iteration:  140\n",
      "Accuracy:  0.6721463414634147\n",
      "Iteration:  150\n",
      "Accuracy:  0.6848536585365854\n",
      "Iteration:  160\n",
      "Accuracy:  0.6965853658536585\n",
      "Iteration:  170\n",
      "Accuracy:  0.7067073170731707\n",
      "Iteration:  180\n",
      "Accuracy:  0.7160731707317073\n",
      "Iteration:  190\n",
      "Accuracy:  0.7251219512195122\n",
      "Iteration:  200\n",
      "Accuracy:  0.7325853658536585\n",
      "Iteration:  210\n",
      "Accuracy:  0.7403414634146341\n",
      "Iteration:  220\n",
      "Accuracy:  0.7476341463414634\n",
      "Iteration:  230\n",
      "Accuracy:  0.7532926829268293\n",
      "Iteration:  240\n",
      "Accuracy:  0.7595121951219512\n",
      "Iteration:  250\n",
      "Accuracy:  0.7647073170731707\n",
      "Iteration:  260\n",
      "Accuracy:  0.7694390243902439\n",
      "Iteration:  270\n",
      "Accuracy:  0.7746341463414634\n",
      "Iteration:  280\n",
      "Accuracy:  0.7796585365853659\n",
      "Iteration:  290\n",
      "Accuracy:  0.784219512195122\n",
      "Iteration:  300\n",
      "Accuracy:  0.7888048780487805\n",
      "Iteration:  310\n",
      "Accuracy:  0.7926341463414635\n",
      "Iteration:  320\n",
      "Accuracy:  0.7961219512195122\n",
      "Iteration:  330\n",
      "Accuracy:  0.7998536585365854\n",
      "Iteration:  340\n",
      "Accuracy:  0.8035365853658537\n",
      "Iteration:  350\n",
      "Accuracy:  0.8066829268292683\n",
      "Iteration:  360\n",
      "Accuracy:  0.8093170731707318\n",
      "Iteration:  370\n",
      "Accuracy:  0.812439024390244\n",
      "Iteration:  380\n",
      "Accuracy:  0.814390243902439\n",
      "Iteration:  390\n",
      "Accuracy:  0.8165853658536585\n",
      "Iteration:  400\n",
      "Accuracy:  0.8190731707317073\n",
      "Iteration:  410\n",
      "Accuracy:  0.821170731707317\n",
      "Iteration:  420\n",
      "Accuracy:  0.8236829268292682\n",
      "Iteration:  430\n",
      "Accuracy:  0.8258536585365853\n",
      "Iteration:  440\n",
      "Accuracy:  0.827780487804878\n",
      "Iteration:  450\n",
      "Accuracy:  0.8294390243902439\n",
      "Iteration:  460\n",
      "Accuracy:  0.8312926829268292\n",
      "Iteration:  470\n",
      "Accuracy:  0.8322926829268292\n",
      "Iteration:  480\n",
      "Accuracy:  0.8338780487804878\n",
      "Iteration:  490\n",
      "Accuracy:  0.8350975609756097\n"
     ]
    }
   ],
   "source": [
    "W1,b1,W2,b2,accuracy,predictions=gradient_descent(x_train,y_train,500,0.1)"
   ]
  },
  {
   "cell_type": "code",
   "execution_count": 65,
   "id": "6d809481",
   "metadata": {},
   "outputs": [
    {
     "name": "stdout",
     "output_type": "stream",
     "text": [
      "Accuracy on Training Set:  0.8367073170731707\n"
     ]
    },
    {
     "data": {
      "image/png": "[encoded data removed]",
      "text/plain": [
       "<Figure size 504x360 with 1 Axes>"
      ]
     },
     "metadata": {
      "needs_background": "light"
     },
     "output_type": "display_data"
    }
   ],
   "source": [
    "# Plot accuracy graph\n",
    "def plot_accuracy(accuracy, iterations):\n",
    "    plt.figure(figsize=(7,5))\n",
    "    xaxis=[i+1 for i in range(iterations)] \n",
    "    sb.lineplot(x=xaxis,y=accuracy, color=\"orange\")\n",
    "    plt.xlabel('Number of iterations', fontsize=15)\n",
    "    plt.ylabel('Accuracy', fontsize=15)\n",
    "    plt.title('Training Accuracy', fontsize=20)\n",
    "    plt.show\n",
    "\n",
    "print(\"Accuracy on Training Set: \", accuracy[-1])\n",
    "plot_accuracy(accuracy, 500)"
   ]
  },
  {
   "cell_type": "code",
   "execution_count": 33,
   "id": "6b4acd91",
   "metadata": {},
   "outputs": [
    {
     "name": "stdout",
     "output_type": "stream",
     "text": [
      "              precision    recall  f1-score   support\n",
      "\n",
      "           0       0.92      0.93      0.93      4046\n",
      "           1       0.92      0.96      0.93      4565\n",
      "           2       0.85      0.83      0.84      4089\n",
      "           3       0.83      0.83      0.83      4240\n",
      "           4       0.82      0.83      0.82      3976\n",
      "           5       0.80      0.69      0.74      3709\n",
      "           6       0.88      0.88      0.88      4042\n",
      "           7       0.87      0.86      0.86      4293\n",
      "           8       0.71      0.77      0.74      3949\n",
      "           9       0.76      0.76      0.76      4091\n",
      "\n",
      "    accuracy                           0.84     41000\n",
      "   macro avg       0.84      0.83      0.83     41000\n",
      "weighted avg       0.84      0.84      0.84     41000\n",
      "\n"
     ]
    }
   ],
   "source": [
    "# Get classification report\n",
    "def get_classification(Y, predictions):\n",
    "    class_labels=[str(i) for i in range(10)]\n",
    "    report = classification_report(Y, predictions,target_names=class_labels)\n",
    "    print(report)\n",
    "    \n",
    "get_classification(y_train,predictions)"
   ]
  },
  {
   "cell_type": "code",
   "execution_count": 43,
   "id": "8d856d2f",
   "metadata": {},
   "outputs": [
    {
     "data": {
      "image/png": "[encoded data removed]",
      "text/plain": [
       "<Figure size 720x576 with 1 Axes>"
      ]
     },
     "metadata": {
      "needs_background": "light"
     },
     "output_type": "display_data"
    }
   ],
   "source": [
    "# Bar plot to illustrate the results\n",
    "def plot_bar(Y, predictions):\n",
    "    color_map={True:'green', False:'red'}\n",
    "    \n",
    "    # Keep track of correct and incorrect predictions\n",
    "    correct_counts=np.zeros(10)\n",
    "    incorrect_counts=np.zeros(10)\n",
    "    for actual,predicted in zip(Y, predictions):\n",
    "        if actual==predicted:\n",
    "            correct_counts[actual]+=1\n",
    "        else:\n",
    "            incorrect_counts[actual]+=1\n",
    "    categories=[i for i in range(10)]\n",
    "    width=0.60\n",
    "    fig,ax=plt.subplots(figsize=(10,8))\n",
    "    rect1=ax.bar(categories, correct_counts,width, color=color_map[True], label='Correct')\n",
    "    rect2=ax.bar(categories, incorrect_counts,width, color=color_map[False], label='Incorrect')\n",
    "    \n",
    "    # Set labels and title\n",
    "    ax.set_xlabel('Labels',fontsize=15)\n",
    "    ax.set_ylabel('Count', fontsize=15)\n",
    "    ax.set_title('Correct and Incorrect Predictions by Labels', fontsize=20)\n",
    "    ax.set_xticks(categories)\n",
    "    ax.set_xticklabels(categories)\n",
    "    ax.legend()\n",
    "    \n",
    "    plt.show()\n",
    "\n",
    "plot_bar(y_train, predictions)"
   ]
  },
  {
   "cell_type": "code",
   "execution_count": 55,
   "id": "2b35298d",
   "metadata": {},
   "outputs": [
    {
     "data": {
      "image/png": "[encoded data removed]",
      "text/plain": [
       "<Figure size 648x504 with 2 Axes>"
      ]
     },
     "metadata": {
      "needs_background": "light"
     },
     "output_type": "display_data"
    }
   ],
   "source": [
    "# Plot confusion matrix because it's cool :)\n",
    "def plot_confusion(Y, predictions):\n",
    "    labels=[i for i in range(10)]\n",
    "    cm=confusion_matrix(Y, predictions)\n",
    "    plt.figure(figsize=(9,7))\n",
    "    plt.imshow(cm, cmap='RdPu')\n",
    "    plt.colorbar()\n",
    "    plt.xlabel('Predicted Labels', fontsize=12)\n",
    "    plt.ylabel('Actual Labels', fontsize=12)\n",
    "    plt.title('Confusion Matrix for Training', fontsize=18)\n",
    "    \n",
    "    # Show all ticks and label them\n",
    "    ticks=np.arange(10)\n",
    "    plt.xticks(ticks)\n",
    "    plt.yticks(ticks)\n",
    "                    \n",
    "    plt.show()\n",
    "                    \n",
    "plot_confusion(y_train,predictions)"
   ]
  },
  {
   "cell_type": "code",
   "execution_count": 60,
   "id": "36ed73f5",
   "metadata": {},
   "outputs": [],
   "source": [
    "# Functions to make predictions\n",
    "def make_predictions(X,W1,b1,W2,b2):\n",
    "    _,_,_,A2=forward_prop(W1,b1,W2,b2,X)\n",
    "    predictions=get_predictions(A2)\n",
    "    return predictions\n",
    "\n",
    "# Predict on test set\n",
    "def test_prediction(index, W1,b1,W2,b2):\n",
    "    current_image=x_train[:,index,None]\n",
    "    prediction=make_predictions(x_train[:,index,None],W1,b1,W2,b2)\n",
    "    label=y_train[index]\n",
    "    print('Index: ', index)\n",
    "    print(\"Model prediction: \", prediction)\n",
    "    print(\"Actual Label: \", label)\n",
    "    \n",
    "    # Display the image\n",
    "    current_image=current_image.reshape((28,28))\n",
    "    plt.gray()\n",
    "    plt.imshow(current_image, interpolation='nearest')\n",
    "    plt.show()  "
   ]
  },
  {
   "cell_type": "code",
   "execution_count": 62,
   "id": "4b84e4f2",
   "metadata": {},
   "outputs": [
    {
     "name": "stdout",
     "output_type": "stream",
     "text": [
      "Index:  0\n",
      "Model prediction:  [2]\n",
      "Actual Label:  2\n"
     ]
    },
    {
     "data": {
      "image/png": "[encoded data removed]",
      "text/plain": [
       "<Figure size 432x288 with 1 Axes>"
      ]
     },
     "metadata": {
      "needs_background": "light"
     },
     "output_type": "display_data"
    },
    {
     "name": "stdout",
     "output_type": "stream",
     "text": [
      "Index:  1534\n",
      "Model prediction:  [7]\n",
      "Actual Label:  7\n"
     ]
    },
    {
     "data": {
      "image/png": "[encoded data removed]",
      "text/plain": [
       "<Figure size 432x288 with 1 Axes>"
      ]
     },
     "metadata": {
      "needs_background": "light"
     },
     "output_type": "display_data"
    }
   ],
   "source": [
    "# Test on a couple of examples\n",
    "test_prediction(0,W1,b1,W2,b2)\n",
    "test_prediction(1534,W1,b1,W2,b2)"
   ]
  },
  {
   "cell_type": "code",
   "execution_count": 64,
   "id": "3e93b682",
   "metadata": {},
   "outputs": [
    {
     "name": "stdout",
     "output_type": "stream",
     "text": [
      "Accuracy on Test Set:  0.841\n"
     ]
    }
   ],
   "source": [
    "# Find accuracy of the test set\n",
    "y_pred=make_predictions(x_test,W1,b1,W2,b2)\n",
    "print(\"Accuracy on Test Set: \" ,get_accuracy(y_pred, y_test))"
   ]
  },
  {
   "cell_type": "code",
   "execution_count": 87,
   "id": "466d0e3d",
   "metadata": {},
   "outputs": [],
   "source": [
    "# Now let's try with the new unseen data\n",
    "def kaggle_test(W1,b1,W2,b2):\n",
    "    testset=pd.read_csv('test.csv')\n",
    "    # Transpose the matrix such that each column is one image, and can be supplied to the input layer\n",
    "    testset_x=testset.T/255. # Normalize the dataset\n",
    "\n",
    "    # Get accuracy of model's predictions on new, unseen data\n",
    "    testset_pred=make_predictions(testset_x,W1,b1,W2,b2)\n",
    "    \n",
    "    # Create dataframe for submission on Kaggle\n",
    "    imageid=[i+1 for i in range(28000)]\n",
    "    data={'ImageId': imageid, \n",
    "          'Label': testset_pred.tolist()}\n",
    "    final=pd.DataFrame(data)\n",
    "    final.to_csv('submission.csv', index=False)\n",
    "    \n",
    "kaggle_test(W1,b1,W2,b2)"
   ]
  },
  {
   "cell_type": "markdown",
   "id": "597ce53b",
   "metadata": {},
   "source": [
    "**Accuracy : 0.8371\\\n",
    "Not bad for a simple neural network! Now let's include more layers and try to make the model better!**"
   ]
  },
  {
   "cell_type": "markdown",
   "id": "25171292",
   "metadata": {},
   "source": [
    "## Three-layer Neural Network\n",
    "\n",
    "Let's add another hidden layer which can increase the model's capacity to learn complex patterns and relationships. Deeper networks can generalize better to unseen data."
   ]
  },
  {
   "cell_type": "code",
   "execution_count": null,
   "id": "8bdfeb90",
   "metadata": {},
   "outputs": [],
   "source": []
  }
 ],
 "metadata": {
  "kernelspec": {
   "display_name": "Python 3 (ipykernel)",
   "language": "python",
   "name": "python3"
  },
  "language_info": {
   "codemirror_mode": {
    "name": "ipython",
    "version": 3
   },
   "file_extension": ".py",
   "mimetype": "text/x-python",
   "name": "python",
   "nbconvert_exporter": "python",
   "pygments_lexer": "ipython3",
   "version": "3.9.12"
  }
 },
 "nbformat": 4,
 "nbformat_minor": 5
}
